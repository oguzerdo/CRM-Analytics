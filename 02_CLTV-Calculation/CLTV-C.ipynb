{
 "cells": [
  {
   "cell_type": "markdown",
   "metadata": {},
   "source": [
    "<div class=\"alert alert-block alert-info\" style=\"margin-top: 20px\">\n",
    "<h1>Customer Life Time Value</h1>\n",
    "<p><strong>Customer lifetime value.</strong> </p>\n",
    "<p>It is the monetary value that a customer will bring to this company during their relationship with a company. </p>\n",
    "<p>At RFM, we divided our customers into groups, but we did not have the knowledge to measure how these customers would add value to us from a broader perspective, ie time projection. </p>\n",
    "<hr />\n",
    "<p><strong>CLTV</strong> = (Customer Value / Churn Rate) x Profit Margin</p>\n",
    "<p><strong>Customer Value</strong> = Average Order Value * Purchase Frequency</p>\n",
    "<p><strong>Average Order Value</strong> = Total Revenue / Total Number of Orders</p>\n",
    "<p><strong>Purchase Frequency</strong> = Total Number of Orders / Total Number of Customers</p>\n",
    "<p><strong>Churn Rate</strong> = 1 - Repeat Rate</p>\n",
    "<p>&nbsp;</p>\n",
    "<p><strong>Repeat Rate:</strong> The ratio of returning customers. If 10 customers went and 2 came back, the repeat rate is 0.2. </p>\n",
    "<hr />\n",
    "<h1>Report</h1>\n",
    "<p>Customer life time values have been calculated, but there is <strong>not temporality</strong> here. </p>\n",
    "<p>That&#39;s why I made a customer life time value prediction using BG-NBD and GammaGamme models. </p>\n",
    "</div>"
   ]
  },
  {
   "cell_type": "code",
   "execution_count": 1,
   "metadata": {},
   "outputs": [],
   "source": [
    "import pandas as pd\n",
    "import datetime as dt\n",
    "from sklearn.preprocessing import MinMaxScaler\n",
    "from helpers import *"
   ]
  },
  {
   "cell_type": "code",
   "execution_count": 2,
   "metadata": {},
   "outputs": [],
   "source": [
    "df_ = pd.read_excel(\"online_retail_II.xlsx\", sheet_name='Year 2010-2011')"
   ]
  },
  {
   "cell_type": "code",
   "execution_count": 3,
   "metadata": {},
   "outputs": [],
   "source": [
    "df = df_.copy()"
   ]
  },
  {
   "cell_type": "code",
   "execution_count": 4,
   "metadata": {
    "tags": []
   },
   "outputs": [
    {
     "name": "stdout",
     "output_type": "stream",
     "text": [
      "##################### Shape #####################\n",
      "(541910, 8)\n",
      "##################### Types #####################\n",
      "Invoice                object\n",
      "StockCode              object\n",
      "Description            object\n",
      "Quantity                int64\n",
      "InvoiceDate    datetime64[ns]\n",
      "Price                 float64\n",
      "Customer ID           float64\n",
      "Country                object\n",
      "dtype: object\n",
      "##################### Head #####################\n",
      "  Invoice StockCode                         Description  Quantity  \\\n",
      "0  536365    85123A  WHITE HANGING HEART T-LIGHT HOLDER         6   \n",
      "1  536365     71053                 WHITE METAL LANTERN         6   \n",
      "2  536365    84406B      CREAM CUPID HEARTS COAT HANGER         8   \n",
      "\n",
      "          InvoiceDate  Price  Customer ID         Country  \n",
      "0 2010-12-01 08:26:00   2.55      17850.0  United Kingdom  \n",
      "1 2010-12-01 08:26:00   3.39      17850.0  United Kingdom  \n",
      "2 2010-12-01 08:26:00   2.75      17850.0  United Kingdom  \n",
      "##################### NA #####################\n",
      "Invoice             0\n",
      "StockCode           0\n",
      "Description      1454\n",
      "Quantity            0\n",
      "InvoiceDate         0\n",
      "Price               0\n",
      "Customer ID    135080\n",
      "Country             0\n",
      "dtype: int64\n",
      "##################### Quantiles #####################\n",
      "                 0.00      0.05      0.50      0.95     0.99     1.00\n",
      "Quantity    -80995.00      1.00      3.00     29.00    100.0  80995.0\n",
      "Price       -11062.06      0.42      2.08      9.95     18.0  38970.0\n",
      "Customer ID  12346.00  12626.00  15152.00  17905.00  18212.0  18287.0\n"
     ]
    }
   ],
   "source": [
    "check_df(df)"
   ]
  },
  {
   "cell_type": "markdown",
   "metadata": {},
   "source": [
    "# Data Preposition for CLTV"
   ]
  },
  {
   "cell_type": "code",
   "execution_count": 5,
   "metadata": {},
   "outputs": [],
   "source": [
    "# Drop NA's\n",
    "df.dropna(axis=0, inplace=True)\n",
    "# C means refundees, drop them\n",
    "df = df[~df[\"Invoice\"].str.contains(\"C\", na=False)]\n",
    "# there shouldn't be quantity value as zero\n",
    "df = df[df[\"Quantity\"] > 0]\n",
    "# Replace outliers with threshold (0.99-0.01)\n",
    "replace_with_thresholds(df, \"Quantity\")\n",
    "replace_with_thresholds(df, \"Price\")\n",
    "# Creating TotalPrice feature\n",
    "df[\"TotalPrice\"] = df[\"Quantity\"] * df[\"Price\"]"
   ]
  },
  {
   "cell_type": "code",
   "execution_count": 6,
   "metadata": {},
   "outputs": [
    {
     "data": {
      "text/plain": [
       "Timestamp('2011-12-09 12:50:00')"
      ]
     },
     "execution_count": 6,
     "metadata": {},
     "output_type": "execute_result"
    }
   ],
   "source": [
    "df[\"InvoiceDate\"].max()"
   ]
  },
  {
   "cell_type": "code",
   "execution_count": 7,
   "metadata": {},
   "outputs": [],
   "source": [
    "today_date = dt.datetime(2011, 12, 11)"
   ]
  },
  {
   "cell_type": "markdown",
   "metadata": {},
   "source": [
    "# RFM Metrics"
   ]
  },
  {
   "cell_type": "code",
   "execution_count": 8,
   "metadata": {},
   "outputs": [],
   "source": [
    "rfm = df.groupby('Customer ID').agg({'InvoiceDate': lambda date: (today_date - date.max()).days,\n",
    "                                            'Invoice': lambda num: num.nunique(),\n",
    "                                            \"TotalPrice\": lambda price: price.sum()})\n",
    "\n",
    "rfm.columns = ['recency', 'frequency', \"monetary\"]\n",
    "\n",
    "rfm = rfm[(rfm['monetary'] > 0)]\n",
    "\n",
    "\n",
    "# RFM SKORLARININ HESAPLANMASI\n",
    "rfm[\"recency_score\"] = pd.qcut(rfm['recency'], 5, labels=[5, 4, 3, 2, 1])\n",
    "rfm[\"frequency_score\"] = pd.qcut(rfm[\"frequency\"].rank(method=\"first\"), 5, labels=[1, 2, 3, 4, 5])\n",
    "\n",
    "# Monetary segment tanımlamada kullanılmadığı için işlemlere alınmadı.\n",
    "\n",
    "# SEGMENTLERIN ISIMLENDIRILMESI\n",
    "rfm['rfm_segment'] = rfm['recency_score'].astype(str) + rfm['frequency_score'].astype(str)\n",
    "\n",
    "seg_map = {\n",
    "    r'[1-2][1-2]': 'hibernating',\n",
    "    r'[1-2][3-4]': 'at_risk',\n",
    "    r'[1-2]5': 'cant_loose',\n",
    "    r'3[1-2]': 'about_to_sleep',\n",
    "    r'33': 'need_attention',\n",
    "    r'[3-4][4-5]': 'loyal_customers',\n",
    "    r'41': 'promising',\n",
    "    r'51': 'new_customers',\n",
    "    r'[4-5][2-3]': 'potential_loyalists',\n",
    "    r'5[4-5]': 'champions'\n",
    "}\n",
    "\n",
    "rfm['rfm_segment'] = rfm['rfm_segment'].replace(seg_map, regex=True)\n",
    "rfm = rfm[[\"recency\", \"frequency\", \"monetary\", \"rfm_segment\"]]"
   ]
  },
  {
   "cell_type": "code",
   "execution_count": 9,
   "metadata": {},
   "outputs": [
    {
     "data": {
      "text/html": [
       "<div>\n",
       "<style scoped>\n",
       "    .dataframe tbody tr th:only-of-type {\n",
       "        vertical-align: middle;\n",
       "    }\n",
       "\n",
       "    .dataframe tbody tr th {\n",
       "        vertical-align: top;\n",
       "    }\n",
       "\n",
       "    .dataframe thead th {\n",
       "        text-align: right;\n",
       "    }\n",
       "</style>\n",
       "<table border=\"1\" class=\"dataframe\">\n",
       "  <thead>\n",
       "    <tr style=\"text-align: right;\">\n",
       "      <th></th>\n",
       "      <th>recency</th>\n",
       "      <th>frequency</th>\n",
       "      <th>monetary</th>\n",
       "      <th>rfm_segment</th>\n",
       "    </tr>\n",
       "    <tr>\n",
       "      <th>Customer ID</th>\n",
       "      <th></th>\n",
       "      <th></th>\n",
       "      <th></th>\n",
       "      <th></th>\n",
       "    </tr>\n",
       "  </thead>\n",
       "  <tbody>\n",
       "    <tr>\n",
       "      <th>12346.0</th>\n",
       "      <td>326</td>\n",
       "      <td>1</td>\n",
       "      <td>310.44</td>\n",
       "      <td>hibernating</td>\n",
       "    </tr>\n",
       "    <tr>\n",
       "      <th>12347.0</th>\n",
       "      <td>3</td>\n",
       "      <td>7</td>\n",
       "      <td>4310.00</td>\n",
       "      <td>champions</td>\n",
       "    </tr>\n",
       "    <tr>\n",
       "      <th>12348.0</th>\n",
       "      <td>76</td>\n",
       "      <td>4</td>\n",
       "      <td>1770.78</td>\n",
       "      <td>at_risk</td>\n",
       "    </tr>\n",
       "    <tr>\n",
       "      <th>12349.0</th>\n",
       "      <td>19</td>\n",
       "      <td>1</td>\n",
       "      <td>1491.72</td>\n",
       "      <td>promising</td>\n",
       "    </tr>\n",
       "    <tr>\n",
       "      <th>12350.0</th>\n",
       "      <td>311</td>\n",
       "      <td>1</td>\n",
       "      <td>331.46</td>\n",
       "      <td>hibernating</td>\n",
       "    </tr>\n",
       "  </tbody>\n",
       "</table>\n",
       "</div>"
      ],
      "text/plain": [
       "             recency  frequency  monetary  rfm_segment\n",
       "Customer ID                                           \n",
       "12346.0          326          1    310.44  hibernating\n",
       "12347.0            3          7   4310.00    champions\n",
       "12348.0           76          4   1770.78      at_risk\n",
       "12349.0           19          1   1491.72    promising\n",
       "12350.0          311          1    331.46  hibernating"
      ]
     },
     "execution_count": 9,
     "metadata": {},
     "output_type": "execute_result"
    }
   ],
   "source": [
    "rfm.head()"
   ]
  },
  {
   "cell_type": "markdown",
   "metadata": {},
   "source": [
    "# CLTV Calculation"
   ]
  },
  {
   "cell_type": "code",
   "execution_count": 10,
   "metadata": {},
   "outputs": [],
   "source": [
    "# avg_order_value\n",
    "rfm['avg_order_value'] = rfm['monetary'] / rfm['frequency']"
   ]
  },
  {
   "cell_type": "code",
   "execution_count": 11,
   "metadata": {},
   "outputs": [],
   "source": [
    "# purchase_frequency\n",
    "rfm[\"purchase_frequency\"] = rfm['frequency'] / rfm.shape[0] # divided for generalizability"
   ]
  },
  {
   "cell_type": "code",
   "execution_count": 12,
   "metadata": {},
   "outputs": [],
   "source": [
    "# repeat rate & churn rate\n",
    "repeat_rate = rfm[rfm.frequency > 1].shape[0] / rfm.shape[0]\n",
    "churn_rate = 1 - repeat_rate"
   ]
  },
  {
   "cell_type": "code",
   "execution_count": 13,
   "metadata": {},
   "outputs": [],
   "source": [
    "# profit\n",
    "rfm['profit_margin'] = rfm['monetary'] * 0.05"
   ]
  },
  {
   "cell_type": "code",
   "execution_count": 14,
   "metadata": {},
   "outputs": [],
   "source": [
    "# Customer Value\n",
    "rfm['cv'] = (rfm['avg_order_value'] * rfm[\"purchase_frequency\"])"
   ]
  },
  {
   "cell_type": "code",
   "execution_count": 15,
   "metadata": {},
   "outputs": [],
   "source": [
    "# Customer Lifetime Value\n",
    "rfm['cltv'] = (rfm['cv'] / churn_rate) * rfm['profit_margin']"
   ]
  },
  {
   "cell_type": "code",
   "execution_count": 16,
   "metadata": {},
   "outputs": [],
   "source": [
    "# minmaxscaler \n",
    "scaler = MinMaxScaler(feature_range=(1, 100))\n",
    "scaler.fit(rfm[[\"cltv\"]])\n",
    "rfm[\"cltv_c\"] = scaler.transform(rfm[[\"cltv\"]])\n",
    "\n",
    "rfm[\"cltv_c_segment\"] = pd.qcut(rfm[\"cltv_c\"], 3, labels=[\"C\", \"B\", \"A\"])\n",
    "\n",
    "rfm = rfm[[\"recency\", \"frequency\", \"monetary\", \"rfm_segment\",\n",
    "                       \"cltv_c\", \"cltv_c_segment\"]]"
   ]
  },
  {
   "cell_type": "code",
   "execution_count": 17,
   "metadata": {},
   "outputs": [
    {
     "data": {
      "text/html": [
       "<div>\n",
       "<style scoped>\n",
       "    .dataframe tbody tr th:only-of-type {\n",
       "        vertical-align: middle;\n",
       "    }\n",
       "\n",
       "    .dataframe tbody tr th {\n",
       "        vertical-align: top;\n",
       "    }\n",
       "\n",
       "    .dataframe thead th {\n",
       "        text-align: right;\n",
       "    }\n",
       "</style>\n",
       "<table border=\"1\" class=\"dataframe\">\n",
       "  <thead>\n",
       "    <tr style=\"text-align: right;\">\n",
       "      <th></th>\n",
       "      <th>recency</th>\n",
       "      <th>frequency</th>\n",
       "      <th>monetary</th>\n",
       "      <th>rfm_segment</th>\n",
       "      <th>cltv_c</th>\n",
       "      <th>cltv_c_segment</th>\n",
       "    </tr>\n",
       "    <tr>\n",
       "      <th>Customer ID</th>\n",
       "      <th></th>\n",
       "      <th></th>\n",
       "      <th></th>\n",
       "      <th></th>\n",
       "      <th></th>\n",
       "      <th></th>\n",
       "    </tr>\n",
       "  </thead>\n",
       "  <tbody>\n",
       "    <tr>\n",
       "      <th>12346.0</th>\n",
       "      <td>326</td>\n",
       "      <td>1</td>\n",
       "      <td>310.44</td>\n",
       "      <td>hibernating</td>\n",
       "      <td>1.000135</td>\n",
       "      <td>C</td>\n",
       "    </tr>\n",
       "    <tr>\n",
       "      <th>12347.0</th>\n",
       "      <td>3</td>\n",
       "      <td>7</td>\n",
       "      <td>4310.00</td>\n",
       "      <td>champions</td>\n",
       "      <td>1.025959</td>\n",
       "      <td>A</td>\n",
       "    </tr>\n",
       "    <tr>\n",
       "      <th>12348.0</th>\n",
       "      <td>76</td>\n",
       "      <td>4</td>\n",
       "      <td>1770.78</td>\n",
       "      <td>at_risk</td>\n",
       "      <td>1.004382</td>\n",
       "      <td>A</td>\n",
       "    </tr>\n",
       "    <tr>\n",
       "      <th>12349.0</th>\n",
       "      <td>19</td>\n",
       "      <td>1</td>\n",
       "      <td>1491.72</td>\n",
       "      <td>promising</td>\n",
       "      <td>1.003110</td>\n",
       "      <td>A</td>\n",
       "    </tr>\n",
       "    <tr>\n",
       "      <th>12350.0</th>\n",
       "      <td>311</td>\n",
       "      <td>1</td>\n",
       "      <td>331.46</td>\n",
       "      <td>hibernating</td>\n",
       "      <td>1.000154</td>\n",
       "      <td>C</td>\n",
       "    </tr>\n",
       "  </tbody>\n",
       "</table>\n",
       "</div>"
      ],
      "text/plain": [
       "             recency  frequency  monetary  rfm_segment    cltv_c  \\\n",
       "Customer ID                                                        \n",
       "12346.0          326          1    310.44  hibernating  1.000135   \n",
       "12347.0            3          7   4310.00    champions  1.025959   \n",
       "12348.0           76          4   1770.78      at_risk  1.004382   \n",
       "12349.0           19          1   1491.72    promising  1.003110   \n",
       "12350.0          311          1    331.46  hibernating  1.000154   \n",
       "\n",
       "            cltv_c_segment  \n",
       "Customer ID                 \n",
       "12346.0                  C  \n",
       "12347.0                  A  \n",
       "12348.0                  A  \n",
       "12349.0                  A  \n",
       "12350.0                  C  "
      ]
     },
     "execution_count": 17,
     "metadata": {},
     "output_type": "execute_result"
    }
   ],
   "source": [
    "rfm.head()"
   ]
  },
  {
   "cell_type": "code",
   "execution_count": 18,
   "metadata": {},
   "outputs": [],
   "source": [
    "rfm.to_excel(\"CLTV.xlsx\", index=False)"
   ]
  },
  {
   "cell_type": "code",
   "execution_count": null,
   "metadata": {},
   "outputs": [],
   "source": []
  }
 ],
 "metadata": {
  "kernelspec": {
   "display_name": "Python 3",
   "language": "python",
   "name": "python3"
  },
  "language_info": {
   "codemirror_mode": {
    "name": "ipython",
    "version": 3
   },
   "file_extension": ".py",
   "mimetype": "text/x-python",
   "name": "python",
   "nbconvert_exporter": "python",
   "pygments_lexer": "ipython3",
   "version": "3.8.8"
  }
 },
 "nbformat": 4,
 "nbformat_minor": 4
}
