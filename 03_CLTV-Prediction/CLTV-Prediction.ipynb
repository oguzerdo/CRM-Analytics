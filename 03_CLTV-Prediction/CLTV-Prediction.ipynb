{
 "cells": [
  {
   "cell_type": "markdown",
   "metadata": {},
   "source": [
    "<div class=\"alert alert-block alert-info\" style=\"margin-top: 20px\">\n",
    "<h1 >Customer Lifetime Value Prediction</h1>\n",
    "<p>Data Preperation </p>\n",
    "<p>Calculate Expected Sale Forecasting values with <strong>BG-NBD Model.</strong> </p>\n",
    "<p>Calculate Expected Average Profit values with <strong>Gamma-Gamma Model.</strong></p>\n",
    "<p>Calculate CLTV for a specified time period with <strong>BG-NBD and Gamma-Gamma models.</strong> </p>\n",
    "</div>"
   ]
  },
  {
   "cell_type": "code",
   "execution_count": 6,
   "metadata": {},
   "outputs": [],
   "source": [
    "import datetime as dt\n",
    "import pandas as pd\n",
    "import matplotlib.pyplot as plt\n",
    "from lifetimes import BetaGeoFitter\n",
    "from lifetimes import GammaGammaFitter\n",
    "from lifetimes.plotting import plot_period_transactions\n",
    "from helpers import *\n",
    "pd.set_option('display.max_columns', None)\n",
    "pd.set_option('display.max_rows', None)\n",
    "pd.set_option('display.float_format', lambda x: '%.5f' % x)"
   ]
  },
  {
   "cell_type": "code",
   "execution_count": 4,
   "metadata": {},
   "outputs": [],
   "source": [
    "df_ = pd.read_excel(\"online_retail_II.xlsx\",\n",
    "                    sheet_name=\"Year 2010-2011\")"
   ]
  },
  {
   "cell_type": "code",
   "execution_count": 19,
   "metadata": {},
   "outputs": [],
   "source": [
    "df = df_.copy()"
   ]
  },
  {
   "cell_type": "code",
   "execution_count": 20,
   "metadata": {},
   "outputs": [
    {
     "name": "stdout",
     "output_type": "stream",
     "text": [
      "##################### Shape #####################\n",
      "(541910, 8)\n",
      "##################### Types #####################\n",
      "Invoice                object\n",
      "StockCode              object\n",
      "Description            object\n",
      "Quantity                int64\n",
      "InvoiceDate    datetime64[ns]\n",
      "Price                 float64\n",
      "Customer ID           float64\n",
      "Country                object\n",
      "dtype: object\n",
      "##################### Head #####################\n",
      "  Invoice StockCode                         Description  Quantity  \\\n",
      "0  536365    85123A  WHITE HANGING HEART T-LIGHT HOLDER         6   \n",
      "1  536365     71053                 WHITE METAL LANTERN         6   \n",
      "2  536365    84406B      CREAM CUPID HEARTS COAT HANGER         8   \n",
      "\n",
      "          InvoiceDate   Price  Customer ID         Country  \n",
      "0 2010-12-01 08:26:00 2.55000  17850.00000  United Kingdom  \n",
      "1 2010-12-01 08:26:00 3.39000  17850.00000  United Kingdom  \n",
      "2 2010-12-01 08:26:00 2.75000  17850.00000  United Kingdom  \n",
      "##################### NA #####################\n",
      "Invoice             0\n",
      "StockCode           0\n",
      "Description      1454\n",
      "Quantity            0\n",
      "InvoiceDate         0\n",
      "Price               0\n",
      "Customer ID    135080\n",
      "Country             0\n",
      "dtype: int64\n",
      "##################### Quantiles #####################\n",
      "                 0.00000     0.05000     0.50000     0.95000     0.99000  \\\n",
      "Quantity    -80995.00000     1.00000     3.00000    29.00000   100.00000   \n",
      "Price       -11062.06000     0.42000     2.08000     9.95000    18.00000   \n",
      "Customer ID  12346.00000 12626.00000 15152.00000 17905.00000 18212.00000   \n",
      "\n",
      "                1.00000  \n",
      "Quantity    80995.00000  \n",
      "Price       38970.00000  \n",
      "Customer ID 18287.00000  \n"
     ]
    }
   ],
   "source": [
    "check_df(df)"
   ]
  },
  {
   "cell_type": "code",
   "execution_count": 21,
   "metadata": {},
   "outputs": [],
   "source": [
    "# 1. Data Preperation\n",
    "# Drop NA's\n",
    "df.dropna(axis=0, inplace=True)\n",
    "# C means refundees, drop them\n",
    "df = df[~df[\"Invoice\"].str.contains(\"C\", na=False)]\n",
    "# there shouldn't be quantity value as zero\n",
    "df = df[df[\"Quantity\"] > 0]\n",
    "# Replace outliers with threshold (0.99-0.01)\n",
    "replace_with_thresholds(df, \"Quantity\")\n",
    "replace_with_thresholds(df, \"Price\")\n",
    "# Creating TotalPrice feature\n",
    "df[\"TotalPrice\"] = df[\"Quantity\"] * df[\"Price\"]\n",
    "df[\"TotalPrice\"] = df[\"Quantity\"] * df[\"Price\"]\n",
    "today_date = dt.datetime(2011, 12, 11)"
   ]
  },
  {
   "cell_type": "markdown",
   "metadata": {},
   "source": [
    "# RFM"
   ]
  },
  {
   "cell_type": "code",
   "execution_count": 22,
   "metadata": {},
   "outputs": [],
   "source": [
    "rfm = df.groupby('Customer ID').agg({'InvoiceDate': [lambda date: (date.max() - date.min()).days,\n",
    "                                                     lambda date: (today_date - date.min()).days],\n",
    "                                     'Invoice': lambda num: num.nunique(),\n",
    "                                     'TotalPrice': lambda TotalPrice: TotalPrice.sum()})"
   ]
  },
  {
   "cell_type": "code",
   "execution_count": 23,
   "metadata": {},
   "outputs": [
    {
     "data": {
      "text/html": [
       "<div>\n",
       "<style scoped>\n",
       "    .dataframe tbody tr th:only-of-type {\n",
       "        vertical-align: middle;\n",
       "    }\n",
       "\n",
       "    .dataframe tbody tr th {\n",
       "        vertical-align: top;\n",
       "    }\n",
       "\n",
       "    .dataframe thead tr th {\n",
       "        text-align: left;\n",
       "    }\n",
       "\n",
       "    .dataframe thead tr:last-of-type th {\n",
       "        text-align: right;\n",
       "    }\n",
       "</style>\n",
       "<table border=\"1\" class=\"dataframe\">\n",
       "  <thead>\n",
       "    <tr>\n",
       "      <th></th>\n",
       "      <th colspan=\"2\" halign=\"left\">InvoiceDate</th>\n",
       "      <th>Invoice</th>\n",
       "      <th>TotalPrice</th>\n",
       "    </tr>\n",
       "    <tr>\n",
       "      <th></th>\n",
       "      <th>&lt;lambda_0&gt;</th>\n",
       "      <th>&lt;lambda_1&gt;</th>\n",
       "      <th>&lt;lambda&gt;</th>\n",
       "      <th>&lt;lambda&gt;</th>\n",
       "    </tr>\n",
       "    <tr>\n",
       "      <th>Customer ID</th>\n",
       "      <th></th>\n",
       "      <th></th>\n",
       "      <th></th>\n",
       "      <th></th>\n",
       "    </tr>\n",
       "  </thead>\n",
       "  <tbody>\n",
       "    <tr>\n",
       "      <th>12346.00000</th>\n",
       "      <td>0</td>\n",
       "      <td>326</td>\n",
       "      <td>1</td>\n",
       "      <td>310.44000</td>\n",
       "    </tr>\n",
       "    <tr>\n",
       "      <th>12347.00000</th>\n",
       "      <td>365</td>\n",
       "      <td>368</td>\n",
       "      <td>7</td>\n",
       "      <td>4310.00000</td>\n",
       "    </tr>\n",
       "    <tr>\n",
       "      <th>12348.00000</th>\n",
       "      <td>282</td>\n",
       "      <td>359</td>\n",
       "      <td>4</td>\n",
       "      <td>1770.78000</td>\n",
       "    </tr>\n",
       "    <tr>\n",
       "      <th>12349.00000</th>\n",
       "      <td>0</td>\n",
       "      <td>19</td>\n",
       "      <td>1</td>\n",
       "      <td>1491.72000</td>\n",
       "    </tr>\n",
       "    <tr>\n",
       "      <th>12350.00000</th>\n",
       "      <td>0</td>\n",
       "      <td>311</td>\n",
       "      <td>1</td>\n",
       "      <td>331.46000</td>\n",
       "    </tr>\n",
       "  </tbody>\n",
       "</table>\n",
       "</div>"
      ],
      "text/plain": [
       "            InvoiceDate             Invoice TotalPrice\n",
       "             <lambda_0> <lambda_1> <lambda>   <lambda>\n",
       "Customer ID                                           \n",
       "12346.00000           0        326        1  310.44000\n",
       "12347.00000         365        368        7 4310.00000\n",
       "12348.00000         282        359        4 1770.78000\n",
       "12349.00000           0         19        1 1491.72000\n",
       "12350.00000           0        311        1  331.46000"
      ]
     },
     "execution_count": 23,
     "metadata": {},
     "output_type": "execute_result"
    }
   ],
   "source": [
    "rfm.head()"
   ]
  },
  {
   "cell_type": "code",
   "execution_count": 24,
   "metadata": {},
   "outputs": [],
   "source": [
    "rfm.columns = rfm.columns.droplevel(0)\n",
    "rfm.columns = ['recency_cltv_p', 'T', 'frequency', 'monetary']"
   ]
  },
  {
   "cell_type": "code",
   "execution_count": 25,
   "metadata": {},
   "outputs": [],
   "source": [
    "rfm[\"monetary\"] = rfm[\"monetary\"] / rfm[\"frequency\"]\n",
    "rfm.rename(columns={\"monetary\": \"monetary_avg\"}, inplace=True)"
   ]
  },
  {
   "cell_type": "code",
   "execution_count": 26,
   "metadata": {},
   "outputs": [
    {
     "data": {
      "text/html": [
       "<div>\n",
       "<style scoped>\n",
       "    .dataframe tbody tr th:only-of-type {\n",
       "        vertical-align: middle;\n",
       "    }\n",
       "\n",
       "    .dataframe tbody tr th {\n",
       "        vertical-align: top;\n",
       "    }\n",
       "\n",
       "    .dataframe thead th {\n",
       "        text-align: right;\n",
       "    }\n",
       "</style>\n",
       "<table border=\"1\" class=\"dataframe\">\n",
       "  <thead>\n",
       "    <tr style=\"text-align: right;\">\n",
       "      <th></th>\n",
       "      <th>recency_cltv_p</th>\n",
       "      <th>T</th>\n",
       "      <th>frequency</th>\n",
       "      <th>monetary_avg</th>\n",
       "    </tr>\n",
       "    <tr>\n",
       "      <th>Customer ID</th>\n",
       "      <th></th>\n",
       "      <th></th>\n",
       "      <th></th>\n",
       "      <th></th>\n",
       "    </tr>\n",
       "  </thead>\n",
       "  <tbody>\n",
       "    <tr>\n",
       "      <th>12346.00000</th>\n",
       "      <td>0</td>\n",
       "      <td>326</td>\n",
       "      <td>1</td>\n",
       "      <td>310.44000</td>\n",
       "    </tr>\n",
       "    <tr>\n",
       "      <th>12347.00000</th>\n",
       "      <td>365</td>\n",
       "      <td>368</td>\n",
       "      <td>7</td>\n",
       "      <td>615.71429</td>\n",
       "    </tr>\n",
       "    <tr>\n",
       "      <th>12348.00000</th>\n",
       "      <td>282</td>\n",
       "      <td>359</td>\n",
       "      <td>4</td>\n",
       "      <td>442.69500</td>\n",
       "    </tr>\n",
       "    <tr>\n",
       "      <th>12349.00000</th>\n",
       "      <td>0</td>\n",
       "      <td>19</td>\n",
       "      <td>1</td>\n",
       "      <td>1491.72000</td>\n",
       "    </tr>\n",
       "    <tr>\n",
       "      <th>12350.00000</th>\n",
       "      <td>0</td>\n",
       "      <td>311</td>\n",
       "      <td>1</td>\n",
       "      <td>331.46000</td>\n",
       "    </tr>\n",
       "  </tbody>\n",
       "</table>\n",
       "</div>"
      ],
      "text/plain": [
       "             recency_cltv_p    T  frequency  monetary_avg\n",
       "Customer ID                                              \n",
       "12346.00000               0  326          1     310.44000\n",
       "12347.00000             365  368          7     615.71429\n",
       "12348.00000             282  359          4     442.69500\n",
       "12349.00000               0   19          1    1491.72000\n",
       "12350.00000               0  311          1     331.46000"
      ]
     },
     "execution_count": 26,
     "metadata": {},
     "output_type": "execute_result"
    }
   ],
   "source": [
    "rfm.head()"
   ]
  },
  {
   "cell_type": "code",
   "execution_count": 27,
   "metadata": {},
   "outputs": [],
   "source": [
    "## recency_weekly_p\n",
    "rfm[\"recency_weekly_p\"] = rfm[\"recency_cltv_p\"] / 7 # haftalığa çevirdik.\n",
    "rfm[\"T_weekly\"] = rfm[\"T\"] / 7"
   ]
  },
  {
   "cell_type": "code",
   "execution_count": 28,
   "metadata": {},
   "outputs": [],
   "source": [
    "# CONTROL\n",
    "rfm = rfm[rfm[\"monetary_avg\"] > 0]"
   ]
  },
  {
   "cell_type": "code",
   "execution_count": 29,
   "metadata": {},
   "outputs": [
    {
     "data": {
      "text/html": [
       "<div>\n",
       "<style scoped>\n",
       "    .dataframe tbody tr th:only-of-type {\n",
       "        vertical-align: middle;\n",
       "    }\n",
       "\n",
       "    .dataframe tbody tr th {\n",
       "        vertical-align: top;\n",
       "    }\n",
       "\n",
       "    .dataframe thead th {\n",
       "        text-align: right;\n",
       "    }\n",
       "</style>\n",
       "<table border=\"1\" class=\"dataframe\">\n",
       "  <thead>\n",
       "    <tr style=\"text-align: right;\">\n",
       "      <th></th>\n",
       "      <th>monetary_avg</th>\n",
       "      <th>recency_weekly_p</th>\n",
       "    </tr>\n",
       "  </thead>\n",
       "  <tbody>\n",
       "    <tr>\n",
       "      <th>monetary_avg</th>\n",
       "      <td>1.00000</td>\n",
       "      <td>0.07186</td>\n",
       "    </tr>\n",
       "    <tr>\n",
       "      <th>recency_weekly_p</th>\n",
       "      <td>0.07186</td>\n",
       "      <td>1.00000</td>\n",
       "    </tr>\n",
       "  </tbody>\n",
       "</table>\n",
       "</div>"
      ],
      "text/plain": [
       "                  monetary_avg  recency_weekly_p\n",
       "monetary_avg           1.00000           0.07186\n",
       "recency_weekly_p       0.07186           1.00000"
      ]
     },
     "execution_count": 29,
     "metadata": {},
     "output_type": "execute_result"
    }
   ],
   "source": [
    "# No correlation between Monetary and Frequency for BG / NBD Model \n",
    "rfm[['monetary_avg', 'recency_weekly_p']].corr()"
   ]
  },
  {
   "cell_type": "code",
   "execution_count": 30,
   "metadata": {},
   "outputs": [],
   "source": [
    "## freq > 1\n",
    "rfm = rfm[(rfm['frequency'] > 1)]\n",
    "rfm[\"frequency\"] = rfm[\"frequency\"].astype(int)"
   ]
  },
  {
   "cell_type": "markdown",
   "metadata": {},
   "source": [
    "# 2.Creating BG / NBD Model\n",
    "- Forecast of expected sales\n",
    "- It is performed over frequency, weekly recency and weekly tenure. (may be monthly instead of weekly) "
   ]
  },
  {
   "cell_type": "code",
   "execution_count": 32,
   "metadata": {},
   "outputs": [
    {
     "data": {
      "text/plain": [
       "<lifetimes.BetaGeoFitter: fitted with 2845 subjects, a: 0.12, alpha: 11.40, b: 2.49, r: 2.18>"
      ]
     },
     "execution_count": 32,
     "metadata": {},
     "output_type": "execute_result"
    }
   ],
   "source": [
    "bgf = BetaGeoFitter(penalizer_coef=0.001)\n",
    "\n",
    "bgf.fit(rfm['frequency'],\n",
    "        rfm['recency_weekly_p'],\n",
    "        rfm['T_weekly'])"
   ]
  },
  {
   "cell_type": "markdown",
   "metadata": {},
   "source": [
    "### Who are the top 10 customers we expect to buy in 1 week?"
   ]
  },
  {
   "cell_type": "code",
   "execution_count": 47,
   "metadata": {},
   "outputs": [
    {
     "data": {
      "text/plain": [
       "Customer ID\n",
       "12748.00000   3.26516\n",
       "14911.00000   3.12664\n",
       "17841.00000   1.94029\n",
       "13089.00000   1.53753\n",
       "14606.00000   1.46400\n",
       "15311.00000   1.43372\n",
       "12971.00000   1.35702\n",
       "14646.00000   1.22252\n",
       "13408.00000   0.98625\n",
       "18102.00000   0.96861\n",
       "dtype: float64"
      ]
     },
     "execution_count": 47,
     "metadata": {},
     "output_type": "execute_result"
    }
   ],
   "source": [
    "bgf.conditional_expected_number_of_purchases_up_to_time(1,\n",
    "                                                        rfm['frequency'],\n",
    "                                                        rfm['recency_weekly_p'],\n",
    "                                                        rfm['T_weekly']).sort_values(ascending=False).head(10)"
   ]
  },
  {
   "cell_type": "code",
   "execution_count": 48,
   "metadata": {},
   "outputs": [
    {
     "data": {
      "text/html": [
       "<div>\n",
       "<style scoped>\n",
       "    .dataframe tbody tr th:only-of-type {\n",
       "        vertical-align: middle;\n",
       "    }\n",
       "\n",
       "    .dataframe tbody tr th {\n",
       "        vertical-align: top;\n",
       "    }\n",
       "\n",
       "    .dataframe thead th {\n",
       "        text-align: right;\n",
       "    }\n",
       "</style>\n",
       "<table border=\"1\" class=\"dataframe\">\n",
       "  <thead>\n",
       "    <tr style=\"text-align: right;\">\n",
       "      <th></th>\n",
       "      <th>recency_cltv_p</th>\n",
       "      <th>T</th>\n",
       "      <th>frequency</th>\n",
       "      <th>monetary_avg</th>\n",
       "      <th>recency_weekly_p</th>\n",
       "      <th>T_weekly</th>\n",
       "      <th>expected_number_of_purchases</th>\n",
       "    </tr>\n",
       "    <tr>\n",
       "      <th>Customer ID</th>\n",
       "      <th></th>\n",
       "      <th></th>\n",
       "      <th></th>\n",
       "      <th></th>\n",
       "      <th></th>\n",
       "      <th></th>\n",
       "      <th></th>\n",
       "    </tr>\n",
       "  </thead>\n",
       "  <tbody>\n",
       "    <tr>\n",
       "      <th>12347.00000</th>\n",
       "      <td>365</td>\n",
       "      <td>368</td>\n",
       "      <td>7</td>\n",
       "      <td>615.71429</td>\n",
       "      <td>52.14286</td>\n",
       "      <td>52.57143</td>\n",
       "      <td>0.14128</td>\n",
       "    </tr>\n",
       "    <tr>\n",
       "      <th>12348.00000</th>\n",
       "      <td>282</td>\n",
       "      <td>359</td>\n",
       "      <td>4</td>\n",
       "      <td>442.69500</td>\n",
       "      <td>40.28571</td>\n",
       "      <td>51.28571</td>\n",
       "      <td>0.09196</td>\n",
       "    </tr>\n",
       "    <tr>\n",
       "      <th>12352.00000</th>\n",
       "      <td>260</td>\n",
       "      <td>297</td>\n",
       "      <td>8</td>\n",
       "      <td>219.54250</td>\n",
       "      <td>37.14286</td>\n",
       "      <td>42.42857</td>\n",
       "      <td>0.18240</td>\n",
       "    </tr>\n",
       "    <tr>\n",
       "      <th>12356.00000</th>\n",
       "      <td>302</td>\n",
       "      <td>326</td>\n",
       "      <td>3</td>\n",
       "      <td>937.14333</td>\n",
       "      <td>43.14286</td>\n",
       "      <td>46.57143</td>\n",
       "      <td>0.08616</td>\n",
       "    </tr>\n",
       "    <tr>\n",
       "      <th>12358.00000</th>\n",
       "      <td>149</td>\n",
       "      <td>151</td>\n",
       "      <td>2</td>\n",
       "      <td>575.21000</td>\n",
       "      <td>21.28571</td>\n",
       "      <td>21.57143</td>\n",
       "      <td>0.12226</td>\n",
       "    </tr>\n",
       "  </tbody>\n",
       "</table>\n",
       "</div>"
      ],
      "text/plain": [
       "             recency_cltv_p    T  frequency  monetary_avg  recency_weekly_p  \\\n",
       "Customer ID                                                                   \n",
       "12347.00000             365  368          7     615.71429          52.14286   \n",
       "12348.00000             282  359          4     442.69500          40.28571   \n",
       "12352.00000             260  297          8     219.54250          37.14286   \n",
       "12356.00000             302  326          3     937.14333          43.14286   \n",
       "12358.00000             149  151          2     575.21000          21.28571   \n",
       "\n",
       "             T_weekly  expected_number_of_purchases  \n",
       "Customer ID                                          \n",
       "12347.00000  52.57143                       0.14128  \n",
       "12348.00000  51.28571                       0.09196  \n",
       "12352.00000  42.42857                       0.18240  \n",
       "12356.00000  46.57143                       0.08616  \n",
       "12358.00000  21.57143                       0.12226  "
      ]
     },
     "execution_count": 48,
     "metadata": {},
     "output_type": "execute_result"
    }
   ],
   "source": [
    "rfm[\"expected_number_of_purchases\"] = bgf.predict(1,\n",
    "                                                  rfm['frequency'],\n",
    "                                                  rfm['recency_weekly_p'],\n",
    "                                                  rfm['T_weekly'])\n",
    "\n",
    "rfm.head()"
   ]
  },
  {
   "cell_type": "markdown",
   "metadata": {},
   "source": [
    "### Who are the top 10 customers we expect to buy in 1 month?"
   ]
  },
  {
   "cell_type": "code",
   "execution_count": 51,
   "metadata": {},
   "outputs": [
    {
     "data": {
      "text/plain": [
       "Customer ID\n",
       "12748.00000   13.02567\n",
       "14911.00000   12.47310\n",
       "17841.00000    7.74034\n",
       "13089.00000    6.13346\n",
       "14606.00000    5.84027\n",
       "15311.00000    5.71947\n",
       "12971.00000    5.41348\n",
       "14646.00000    4.87636\n",
       "13408.00000    3.93437\n",
       "18102.00000    3.86386\n",
       "dtype: float64"
      ]
     },
     "execution_count": 51,
     "metadata": {},
     "output_type": "execute_result"
    }
   ],
   "source": [
    "bgf.predict(4,\n",
    "            rfm['frequency'],\n",
    "            rfm['recency_weekly_p'],\n",
    "            rfm['T_weekly']).sort_values(ascending=False).head(10)"
   ]
  },
  {
   "cell_type": "code",
   "execution_count": 52,
   "metadata": {},
   "outputs": [],
   "source": [
    "rfm[\"expected_number_of_purchases\"] = bgf.predict(4,\n",
    "                                                  rfm['frequency'],\n",
    "                                                  rfm['recency_weekly_p'],\n",
    "                                                  rfm['T_weekly'])"
   ]
  },
  {
   "cell_type": "code",
   "execution_count": 53,
   "metadata": {},
   "outputs": [
    {
     "data": {
      "text/html": [
       "<div>\n",
       "<style scoped>\n",
       "    .dataframe tbody tr th:only-of-type {\n",
       "        vertical-align: middle;\n",
       "    }\n",
       "\n",
       "    .dataframe tbody tr th {\n",
       "        vertical-align: top;\n",
       "    }\n",
       "\n",
       "    .dataframe thead th {\n",
       "        text-align: right;\n",
       "    }\n",
       "</style>\n",
       "<table border=\"1\" class=\"dataframe\">\n",
       "  <thead>\n",
       "    <tr style=\"text-align: right;\">\n",
       "      <th></th>\n",
       "      <th>recency_cltv_p</th>\n",
       "      <th>T</th>\n",
       "      <th>frequency</th>\n",
       "      <th>monetary_avg</th>\n",
       "      <th>recency_weekly_p</th>\n",
       "      <th>T_weekly</th>\n",
       "      <th>expected_number_of_purchases</th>\n",
       "    </tr>\n",
       "    <tr>\n",
       "      <th>Customer ID</th>\n",
       "      <th></th>\n",
       "      <th></th>\n",
       "      <th></th>\n",
       "      <th></th>\n",
       "      <th></th>\n",
       "      <th></th>\n",
       "      <th></th>\n",
       "    </tr>\n",
       "  </thead>\n",
       "  <tbody>\n",
       "    <tr>\n",
       "      <th>12748.00000</th>\n",
       "      <td>372</td>\n",
       "      <td>374</td>\n",
       "      <td>210</td>\n",
       "      <td>154.19243</td>\n",
       "      <td>53.14286</td>\n",
       "      <td>53.42857</td>\n",
       "      <td>13.02567</td>\n",
       "    </tr>\n",
       "    <tr>\n",
       "      <th>14911.00000</th>\n",
       "      <td>372</td>\n",
       "      <td>374</td>\n",
       "      <td>201</td>\n",
       "      <td>691.71010</td>\n",
       "      <td>53.14286</td>\n",
       "      <td>53.42857</td>\n",
       "      <td>12.47310</td>\n",
       "    </tr>\n",
       "    <tr>\n",
       "      <th>17841.00000</th>\n",
       "      <td>371</td>\n",
       "      <td>374</td>\n",
       "      <td>124</td>\n",
       "      <td>330.13435</td>\n",
       "      <td>53.00000</td>\n",
       "      <td>53.42857</td>\n",
       "      <td>7.74034</td>\n",
       "    </tr>\n",
       "    <tr>\n",
       "      <th>13089.00000</th>\n",
       "      <td>366</td>\n",
       "      <td>370</td>\n",
       "      <td>97</td>\n",
       "      <td>606.36247</td>\n",
       "      <td>52.28571</td>\n",
       "      <td>52.85714</td>\n",
       "      <td>6.13346</td>\n",
       "    </tr>\n",
       "    <tr>\n",
       "      <th>14606.00000</th>\n",
       "      <td>372</td>\n",
       "      <td>374</td>\n",
       "      <td>93</td>\n",
       "      <td>130.13903</td>\n",
       "      <td>53.14286</td>\n",
       "      <td>53.42857</td>\n",
       "      <td>5.84027</td>\n",
       "    </tr>\n",
       "    <tr>\n",
       "      <th>15311.00000</th>\n",
       "      <td>373</td>\n",
       "      <td>374</td>\n",
       "      <td>91</td>\n",
       "      <td>667.77912</td>\n",
       "      <td>53.28571</td>\n",
       "      <td>53.42857</td>\n",
       "      <td>5.71947</td>\n",
       "    </tr>\n",
       "    <tr>\n",
       "      <th>12971.00000</th>\n",
       "      <td>368</td>\n",
       "      <td>373</td>\n",
       "      <td>86</td>\n",
       "      <td>127.48587</td>\n",
       "      <td>52.57143</td>\n",
       "      <td>53.28571</td>\n",
       "      <td>5.41348</td>\n",
       "    </tr>\n",
       "    <tr>\n",
       "      <th>14646.00000</th>\n",
       "      <td>353</td>\n",
       "      <td>355</td>\n",
       "      <td>74</td>\n",
       "      <td>3596.80439</td>\n",
       "      <td>50.42857</td>\n",
       "      <td>50.71429</td>\n",
       "      <td>4.87636</td>\n",
       "    </tr>\n",
       "    <tr>\n",
       "      <th>13408.00000</th>\n",
       "      <td>371</td>\n",
       "      <td>374</td>\n",
       "      <td>62</td>\n",
       "      <td>453.50065</td>\n",
       "      <td>53.00000</td>\n",
       "      <td>53.42857</td>\n",
       "      <td>3.93437</td>\n",
       "    </tr>\n",
       "    <tr>\n",
       "      <th>18102.00000</th>\n",
       "      <td>366</td>\n",
       "      <td>368</td>\n",
       "      <td>60</td>\n",
       "      <td>3859.73908</td>\n",
       "      <td>52.28571</td>\n",
       "      <td>52.57143</td>\n",
       "      <td>3.86386</td>\n",
       "    </tr>\n",
       "  </tbody>\n",
       "</table>\n",
       "</div>"
      ],
      "text/plain": [
       "             recency_cltv_p    T  frequency  monetary_avg  recency_weekly_p  \\\n",
       "Customer ID                                                                   \n",
       "12748.00000             372  374        210     154.19243          53.14286   \n",
       "14911.00000             372  374        201     691.71010          53.14286   \n",
       "17841.00000             371  374        124     330.13435          53.00000   \n",
       "13089.00000             366  370         97     606.36247          52.28571   \n",
       "14606.00000             372  374         93     130.13903          53.14286   \n",
       "15311.00000             373  374         91     667.77912          53.28571   \n",
       "12971.00000             368  373         86     127.48587          52.57143   \n",
       "14646.00000             353  355         74    3596.80439          50.42857   \n",
       "13408.00000             371  374         62     453.50065          53.00000   \n",
       "18102.00000             366  368         60    3859.73908          52.28571   \n",
       "\n",
       "             T_weekly  expected_number_of_purchases  \n",
       "Customer ID                                          \n",
       "12748.00000  53.42857                      13.02567  \n",
       "14911.00000  53.42857                      12.47310  \n",
       "17841.00000  53.42857                       7.74034  \n",
       "13089.00000  52.85714                       6.13346  \n",
       "14606.00000  53.42857                       5.84027  \n",
       "15311.00000  53.42857                       5.71947  \n",
       "12971.00000  53.28571                       5.41348  \n",
       "14646.00000  50.71429                       4.87636  \n",
       "13408.00000  53.42857                       3.93437  \n",
       "18102.00000  52.57143                       3.86386  "
      ]
     },
     "execution_count": 53,
     "metadata": {},
     "output_type": "execute_result"
    }
   ],
   "source": [
    "rfm.sort_values(\"expected_number_of_purchases\", ascending=False).head(10)"
   ]
  },
  {
   "cell_type": "markdown",
   "metadata": {},
   "source": [
    "### What is the Expected Sales of the whole Company in 1 Month? "
   ]
  },
  {
   "cell_type": "code",
   "execution_count": 54,
   "metadata": {},
   "outputs": [
    {
     "data": {
      "text/plain": [
       "1777.1450731636864"
      ]
     },
     "execution_count": 54,
     "metadata": {},
     "output_type": "execute_result"
    }
   ],
   "source": [
    "bgf.predict(4,\n",
    "            rfm['frequency'],\n",
    "            rfm['recency_weekly_p'],\n",
    "            rfm['T_weekly']).sum()"
   ]
  },
  {
   "cell_type": "markdown",
   "metadata": {},
   "source": [
    "### What is the Expected Sales Number of the Whole Company in 3 Months? "
   ]
  },
  {
   "cell_type": "code",
   "execution_count": 55,
   "metadata": {},
   "outputs": [
    {
     "data": {
      "text/plain": [
       "5271.849715637076"
      ]
     },
     "execution_count": 55,
     "metadata": {},
     "output_type": "execute_result"
    }
   ],
   "source": [
    "bgf.predict(4 * 3,\n",
    "            rfm['frequency'],\n",
    "            rfm['recency_weekly_p'],\n",
    "            rfm['T_weekly']).sum()"
   ]
  },
  {
   "cell_type": "code",
   "execution_count": 57,
   "metadata": {},
   "outputs": [],
   "source": [
    "### Evaluation of Estimation Results "
   ]
  },
  {
   "cell_type": "code",
   "execution_count": 58,
   "metadata": {},
   "outputs": [
    {
     "data": {
      "image/png": "[encoded data removed]",
      "text/plain": [
       "<Figure size 432x288 with 1 Axes>"
      ]
     },
     "metadata": {
      "needs_background": "light"
     },
     "output_type": "display_data"
    }
   ],
   "source": [
    "plot_period_transactions(bgf)\n",
    "plt.show()"
   ]
  },
  {
   "cell_type": "markdown",
   "metadata": {},
   "source": [
    "# 3. Creating the GAMMA-GAMMA Model\n",
    "- Expected average profitability.\n",
    "- It is done using # frequency and monetary_avg variables. "
   ]
  },
  {
   "cell_type": "code",
   "execution_count": 60,
   "metadata": {},
   "outputs": [
    {
     "data": {
      "text/plain": [
       "Customer ID\n",
       "12347.00000    631.91197\n",
       "12348.00000    463.74554\n",
       "12352.00000    224.88667\n",
       "12356.00000    995.99768\n",
       "12358.00000    631.90095\n",
       "12359.00000   1435.03722\n",
       "12360.00000    933.78938\n",
       "12362.00000    532.23164\n",
       "12363.00000    304.26377\n",
       "12364.00000    344.13665\n",
       "dtype: float64"
      ]
     },
     "execution_count": 60,
     "metadata": {},
     "output_type": "execute_result"
    }
   ],
   "source": [
    "ggf = GammaGammaFitter(penalizer_coef=0.01)\n",
    "ggf.fit(rfm['frequency'], rfm['monetary_avg'])\n",
    "\n",
    "ggf.conditional_expected_average_profit(rfm['frequency'],\n",
    "                                        rfm['monetary_avg']).head(10)"
   ]
  },
  {
   "cell_type": "code",
   "execution_count": 61,
   "metadata": {},
   "outputs": [
    {
     "data": {
      "text/plain": [
       "Customer ID\n",
       "12415.00000   5772.17719\n",
       "12590.00000   5029.40987\n",
       "12435.00000   4288.93571\n",
       "12409.00000   3918.80790\n",
       "14088.00000   3917.12864\n",
       "18102.00000   3870.99670\n",
       "12753.00000   3678.57611\n",
       "14646.00000   3605.30916\n",
       "15749.00000   3216.04831\n",
       "14096.00000   3196.43538\n",
       "dtype: float64"
      ]
     },
     "execution_count": 61,
     "metadata": {},
     "output_type": "execute_result"
    }
   ],
   "source": [
    "ggf.conditional_expected_average_profit(rfm['frequency'],\n",
    "                                        rfm['monetary_avg']).sort_values(ascending=False).head(10)"
   ]
  },
  {
   "cell_type": "code",
   "execution_count": 63,
   "metadata": {},
   "outputs": [],
   "source": [
    "rfm[\"expected_average_profit\"] = ggf.conditional_expected_average_profit(rfm['frequency'],\n",
    "                                                                         rfm['monetary_avg'])"
   ]
  },
  {
   "cell_type": "code",
   "execution_count": 65,
   "metadata": {},
   "outputs": [
    {
     "data": {
      "text/html": [
       "<div>\n",
       "<style scoped>\n",
       "    .dataframe tbody tr th:only-of-type {\n",
       "        vertical-align: middle;\n",
       "    }\n",
       "\n",
       "    .dataframe tbody tr th {\n",
       "        vertical-align: top;\n",
       "    }\n",
       "\n",
       "    .dataframe thead th {\n",
       "        text-align: right;\n",
       "    }\n",
       "</style>\n",
       "<table border=\"1\" class=\"dataframe\">\n",
       "  <thead>\n",
       "    <tr style=\"text-align: right;\">\n",
       "      <th></th>\n",
       "      <th>recency_cltv_p</th>\n",
       "      <th>T</th>\n",
       "      <th>frequency</th>\n",
       "      <th>monetary_avg</th>\n",
       "      <th>recency_weekly_p</th>\n",
       "      <th>T_weekly</th>\n",
       "      <th>expected_number_of_purchases</th>\n",
       "      <th>expected_average_profit</th>\n",
       "    </tr>\n",
       "    <tr>\n",
       "      <th>Customer ID</th>\n",
       "      <th></th>\n",
       "      <th></th>\n",
       "      <th></th>\n",
       "      <th></th>\n",
       "      <th></th>\n",
       "      <th></th>\n",
       "      <th></th>\n",
       "      <th></th>\n",
       "    </tr>\n",
       "  </thead>\n",
       "  <tbody>\n",
       "    <tr>\n",
       "      <th>12415.00000</th>\n",
       "      <td>313</td>\n",
       "      <td>338</td>\n",
       "      <td>21</td>\n",
       "      <td>5724.30262</td>\n",
       "      <td>44.71429</td>\n",
       "      <td>48.28571</td>\n",
       "      <td>1.51398</td>\n",
       "      <td>5772.17719</td>\n",
       "    </tr>\n",
       "    <tr>\n",
       "      <th>12590.00000</th>\n",
       "      <td>0</td>\n",
       "      <td>212</td>\n",
       "      <td>2</td>\n",
       "      <td>4591.17250</td>\n",
       "      <td>0.00000</td>\n",
       "      <td>30.28571</td>\n",
       "      <td>0.04593</td>\n",
       "      <td>5029.40987</td>\n",
       "    </tr>\n",
       "    <tr>\n",
       "      <th>12435.00000</th>\n",
       "      <td>188</td>\n",
       "      <td>268</td>\n",
       "      <td>2</td>\n",
       "      <td>3914.94500</td>\n",
       "      <td>26.85714</td>\n",
       "      <td>38.28571</td>\n",
       "      <td>0.30407</td>\n",
       "      <td>4288.93571</td>\n",
       "    </tr>\n",
       "    <tr>\n",
       "      <th>12409.00000</th>\n",
       "      <td>103</td>\n",
       "      <td>183</td>\n",
       "      <td>3</td>\n",
       "      <td>3690.89000</td>\n",
       "      <td>14.71429</td>\n",
       "      <td>26.14286</td>\n",
       "      <td>0.46741</td>\n",
       "      <td>3918.80790</td>\n",
       "    </tr>\n",
       "    <tr>\n",
       "      <th>14088.00000</th>\n",
       "      <td>312</td>\n",
       "      <td>323</td>\n",
       "      <td>13</td>\n",
       "      <td>3864.55462</td>\n",
       "      <td>44.57143</td>\n",
       "      <td>46.14286</td>\n",
       "      <td>1.03796</td>\n",
       "      <td>3917.12864</td>\n",
       "    </tr>\n",
       "    <tr>\n",
       "      <th>18102.00000</th>\n",
       "      <td>366</td>\n",
       "      <td>368</td>\n",
       "      <td>60</td>\n",
       "      <td>3859.73908</td>\n",
       "      <td>52.28571</td>\n",
       "      <td>52.57143</td>\n",
       "      <td>3.86386</td>\n",
       "      <td>3870.99670</td>\n",
       "    </tr>\n",
       "    <tr>\n",
       "      <th>12753.00000</th>\n",
       "      <td>339</td>\n",
       "      <td>363</td>\n",
       "      <td>6</td>\n",
       "      <td>3571.56500</td>\n",
       "      <td>48.42857</td>\n",
       "      <td>51.85714</td>\n",
       "      <td>0.50277</td>\n",
       "      <td>3678.57611</td>\n",
       "    </tr>\n",
       "    <tr>\n",
       "      <th>14646.00000</th>\n",
       "      <td>353</td>\n",
       "      <td>355</td>\n",
       "      <td>74</td>\n",
       "      <td>3596.80439</td>\n",
       "      <td>50.42857</td>\n",
       "      <td>50.71429</td>\n",
       "      <td>4.87636</td>\n",
       "      <td>3605.30916</td>\n",
       "    </tr>\n",
       "    <tr>\n",
       "      <th>15749.00000</th>\n",
       "      <td>97</td>\n",
       "      <td>333</td>\n",
       "      <td>3</td>\n",
       "      <td>3028.78000</td>\n",
       "      <td>13.85714</td>\n",
       "      <td>47.57143</td>\n",
       "      <td>0.11156</td>\n",
       "      <td>3216.04831</td>\n",
       "    </tr>\n",
       "    <tr>\n",
       "      <th>14096.00000</th>\n",
       "      <td>97</td>\n",
       "      <td>102</td>\n",
       "      <td>17</td>\n",
       "      <td>3163.58824</td>\n",
       "      <td>13.85714</td>\n",
       "      <td>14.57143</td>\n",
       "      <td>2.89599</td>\n",
       "      <td>3196.43538</td>\n",
       "    </tr>\n",
       "  </tbody>\n",
       "</table>\n",
       "</div>"
      ],
      "text/plain": [
       "             recency_cltv_p    T  frequency  monetary_avg  recency_weekly_p  \\\n",
       "Customer ID                                                                   \n",
       "12415.00000             313  338         21    5724.30262          44.71429   \n",
       "12590.00000               0  212          2    4591.17250           0.00000   \n",
       "12435.00000             188  268          2    3914.94500          26.85714   \n",
       "12409.00000             103  183          3    3690.89000          14.71429   \n",
       "14088.00000             312  323         13    3864.55462          44.57143   \n",
       "18102.00000             366  368         60    3859.73908          52.28571   \n",
       "12753.00000             339  363          6    3571.56500          48.42857   \n",
       "14646.00000             353  355         74    3596.80439          50.42857   \n",
       "15749.00000              97  333          3    3028.78000          13.85714   \n",
       "14096.00000              97  102         17    3163.58824          13.85714   \n",
       "\n",
       "             T_weekly  expected_number_of_purchases  expected_average_profit  \n",
       "Customer ID                                                                   \n",
       "12415.00000  48.28571                       1.51398               5772.17719  \n",
       "12590.00000  30.28571                       0.04593               5029.40987  \n",
       "12435.00000  38.28571                       0.30407               4288.93571  \n",
       "12409.00000  26.14286                       0.46741               3918.80790  \n",
       "14088.00000  46.14286                       1.03796               3917.12864  \n",
       "18102.00000  52.57143                       3.86386               3870.99670  \n",
       "12753.00000  51.85714                       0.50277               3678.57611  \n",
       "14646.00000  50.71429                       4.87636               3605.30916  \n",
       "15749.00000  47.57143                       0.11156               3216.04831  \n",
       "14096.00000  14.57143                       2.89599               3196.43538  "
      ]
     },
     "execution_count": 65,
     "metadata": {},
     "output_type": "execute_result"
    }
   ],
   "source": [
    "rfm.sort_values(\"expected_average_profit\", ascending=False).head(10)"
   ]
  },
  {
   "cell_type": "markdown",
   "metadata": {},
   "source": [
    "# 4. Calculation of CLTV with BG-NBD and GG model. "
   ]
  },
  {
   "cell_type": "code",
   "execution_count": 67,
   "metadata": {},
   "outputs": [],
   "source": [
    "cltv = ggf.customer_lifetime_value(bgf,\n",
    "                                   rfm['frequency'],\n",
    "                                   rfm['recency_weekly_p'],\n",
    "                                   rfm['T_weekly'],\n",
    "                                   rfm['monetary_avg'],\n",
    "                                   time=3,  # 3 months\n",
    "                                   freq=\"W\",  # T' frequency information.\n",
    "                                   discount_rate=0.01)"
   ]
  },
  {
   "cell_type": "code",
   "execution_count": 68,
   "metadata": {},
   "outputs": [
    {
     "data": {
      "text/plain": [
       "Customer ID\n",
       "12347.00000   1128.46141\n",
       "12348.00000    538.79801\n",
       "12352.00000    517.51478\n",
       "12356.00000   1083.05929\n",
       "12358.00000    966.68008\n",
       "Name: clv, dtype: float64"
      ]
     },
     "execution_count": 68,
     "metadata": {},
     "output_type": "execute_result"
    }
   ],
   "source": [
    "cltv.head()"
   ]
  },
  {
   "cell_type": "code",
   "execution_count": 69,
   "metadata": {},
   "outputs": [],
   "source": [
    "cltv.shape\n",
    "cltv = cltv.reset_index()"
   ]
  },
  {
   "cell_type": "code",
   "execution_count": 71,
   "metadata": {},
   "outputs": [
    {
     "data": {
      "text/html": [
       "<div>\n",
       "<style scoped>\n",
       "    .dataframe tbody tr th:only-of-type {\n",
       "        vertical-align: middle;\n",
       "    }\n",
       "\n",
       "    .dataframe tbody tr th {\n",
       "        vertical-align: top;\n",
       "    }\n",
       "\n",
       "    .dataframe thead th {\n",
       "        text-align: right;\n",
       "    }\n",
       "</style>\n",
       "<table border=\"1\" class=\"dataframe\">\n",
       "  <thead>\n",
       "    <tr style=\"text-align: right;\">\n",
       "      <th></th>\n",
       "      <th>Customer ID</th>\n",
       "      <th>clv</th>\n",
       "    </tr>\n",
       "  </thead>\n",
       "  <tbody>\n",
       "    <tr>\n",
       "      <th>1122</th>\n",
       "      <td>14646.00000</td>\n",
       "      <td>55722.42033</td>\n",
       "    </tr>\n",
       "    <tr>\n",
       "      <th>2761</th>\n",
       "      <td>18102.00000</td>\n",
       "      <td>47415.67007</td>\n",
       "    </tr>\n",
       "    <tr>\n",
       "      <th>843</th>\n",
       "      <td>14096.00000</td>\n",
       "      <td>29066.03859</td>\n",
       "    </tr>\n",
       "    <tr>\n",
       "      <th>36</th>\n",
       "      <td>12415.00000</td>\n",
       "      <td>27686.52225</td>\n",
       "    </tr>\n",
       "    <tr>\n",
       "      <th>1257</th>\n",
       "      <td>14911.00000</td>\n",
       "      <td>27379.34142</td>\n",
       "    </tr>\n",
       "    <tr>\n",
       "      <th>2458</th>\n",
       "      <td>17450.00000</td>\n",
       "      <td>27167.74056</td>\n",
       "    </tr>\n",
       "    <tr>\n",
       "      <th>874</th>\n",
       "      <td>14156.00000</td>\n",
       "      <td>23425.86127</td>\n",
       "    </tr>\n",
       "    <tr>\n",
       "      <th>2487</th>\n",
       "      <td>17511.00000</td>\n",
       "      <td>18987.67667</td>\n",
       "    </tr>\n",
       "    <tr>\n",
       "      <th>2075</th>\n",
       "      <td>16684.00000</td>\n",
       "      <td>13441.17488</td>\n",
       "    </tr>\n",
       "    <tr>\n",
       "      <th>650</th>\n",
       "      <td>13694.00000</td>\n",
       "      <td>12966.94100</td>\n",
       "    </tr>\n",
       "  </tbody>\n",
       "</table>\n",
       "</div>"
      ],
      "text/plain": [
       "      Customer ID         clv\n",
       "1122  14646.00000 55722.42033\n",
       "2761  18102.00000 47415.67007\n",
       "843   14096.00000 29066.03859\n",
       "36    12415.00000 27686.52225\n",
       "1257  14911.00000 27379.34142\n",
       "2458  17450.00000 27167.74056\n",
       "874   14156.00000 23425.86127\n",
       "2487  17511.00000 18987.67667\n",
       "2075  16684.00000 13441.17488\n",
       "650   13694.00000 12966.94100"
      ]
     },
     "execution_count": 71,
     "metadata": {},
     "output_type": "execute_result"
    }
   ],
   "source": [
    "cltv.sort_values(by=\"clv\", ascending=False).head(10)"
   ]
  },
  {
   "cell_type": "code",
   "execution_count": 72,
   "metadata": {},
   "outputs": [],
   "source": [
    "rfm_cltv_final = rfm.merge(cltv, on=\"Customer ID\", how=\"left\")"
   ]
  },
  {
   "cell_type": "code",
   "execution_count": 73,
   "metadata": {},
   "outputs": [
    {
     "data": {
      "text/html": [
       "<div>\n",
       "<style scoped>\n",
       "    .dataframe tbody tr th:only-of-type {\n",
       "        vertical-align: middle;\n",
       "    }\n",
       "\n",
       "    .dataframe tbody tr th {\n",
       "        vertical-align: top;\n",
       "    }\n",
       "\n",
       "    .dataframe thead th {\n",
       "        text-align: right;\n",
       "    }\n",
       "</style>\n",
       "<table border=\"1\" class=\"dataframe\">\n",
       "  <thead>\n",
       "    <tr style=\"text-align: right;\">\n",
       "      <th></th>\n",
       "      <th>Customer ID</th>\n",
       "      <th>recency_cltv_p</th>\n",
       "      <th>T</th>\n",
       "      <th>frequency</th>\n",
       "      <th>monetary_avg</th>\n",
       "      <th>recency_weekly_p</th>\n",
       "      <th>T_weekly</th>\n",
       "      <th>expected_number_of_purchases</th>\n",
       "      <th>expected_average_profit</th>\n",
       "      <th>clv</th>\n",
       "    </tr>\n",
       "  </thead>\n",
       "  <tbody>\n",
       "    <tr>\n",
       "      <th>0</th>\n",
       "      <td>12347.00000</td>\n",
       "      <td>365</td>\n",
       "      <td>368</td>\n",
       "      <td>7</td>\n",
       "      <td>615.71429</td>\n",
       "      <td>52.14286</td>\n",
       "      <td>52.57143</td>\n",
       "      <td>0.56352</td>\n",
       "      <td>631.91197</td>\n",
       "      <td>1128.46141</td>\n",
       "    </tr>\n",
       "    <tr>\n",
       "      <th>1</th>\n",
       "      <td>12348.00000</td>\n",
       "      <td>282</td>\n",
       "      <td>359</td>\n",
       "      <td>4</td>\n",
       "      <td>442.69500</td>\n",
       "      <td>40.28571</td>\n",
       "      <td>51.28571</td>\n",
       "      <td>0.36675</td>\n",
       "      <td>463.74554</td>\n",
       "      <td>538.79801</td>\n",
       "    </tr>\n",
       "    <tr>\n",
       "      <th>2</th>\n",
       "      <td>12352.00000</td>\n",
       "      <td>260</td>\n",
       "      <td>297</td>\n",
       "      <td>8</td>\n",
       "      <td>219.54250</td>\n",
       "      <td>37.14286</td>\n",
       "      <td>42.42857</td>\n",
       "      <td>0.72713</td>\n",
       "      <td>224.88667</td>\n",
       "      <td>517.51478</td>\n",
       "    </tr>\n",
       "    <tr>\n",
       "      <th>3</th>\n",
       "      <td>12356.00000</td>\n",
       "      <td>302</td>\n",
       "      <td>326</td>\n",
       "      <td>3</td>\n",
       "      <td>937.14333</td>\n",
       "      <td>43.14286</td>\n",
       "      <td>46.57143</td>\n",
       "      <td>0.34351</td>\n",
       "      <td>995.99768</td>\n",
       "      <td>1083.05929</td>\n",
       "    </tr>\n",
       "    <tr>\n",
       "      <th>4</th>\n",
       "      <td>12358.00000</td>\n",
       "      <td>149</td>\n",
       "      <td>151</td>\n",
       "      <td>2</td>\n",
       "      <td>575.21000</td>\n",
       "      <td>21.28571</td>\n",
       "      <td>21.57143</td>\n",
       "      <td>0.48623</td>\n",
       "      <td>631.90095</td>\n",
       "      <td>966.68008</td>\n",
       "    </tr>\n",
       "  </tbody>\n",
       "</table>\n",
       "</div>"
      ],
      "text/plain": [
       "   Customer ID  recency_cltv_p    T  frequency  monetary_avg  \\\n",
       "0  12347.00000             365  368          7     615.71429   \n",
       "1  12348.00000             282  359          4     442.69500   \n",
       "2  12352.00000             260  297          8     219.54250   \n",
       "3  12356.00000             302  326          3     937.14333   \n",
       "4  12358.00000             149  151          2     575.21000   \n",
       "\n",
       "   recency_weekly_p  T_weekly  expected_number_of_purchases  \\\n",
       "0          52.14286  52.57143                       0.56352   \n",
       "1          40.28571  51.28571                       0.36675   \n",
       "2          37.14286  42.42857                       0.72713   \n",
       "3          43.14286  46.57143                       0.34351   \n",
       "4          21.28571  21.57143                       0.48623   \n",
       "\n",
       "   expected_average_profit        clv  \n",
       "0                631.91197 1128.46141  \n",
       "1                463.74554  538.79801  \n",
       "2                224.88667  517.51478  \n",
       "3                995.99768 1083.05929  \n",
       "4                631.90095  966.68008  "
      ]
     },
     "execution_count": 73,
     "metadata": {},
     "output_type": "execute_result"
    }
   ],
   "source": [
    "rfm_cltv_final.head()"
   ]
  }
 ],
 "metadata": {
  "kernelspec": {
   "display_name": "Python 3",
   "language": "python",
   "name": "python3"
  },
  "language_info": {
   "codemirror_mode": {
    "name": "ipython",
    "version": 3
   },
   "file_extension": ".py",
   "mimetype": "text/x-python",
   "name": "python",
   "nbconvert_exporter": "python",
   "pygments_lexer": "ipython3",
   "version": "3.8.8"
  }
 },
 "nbformat": 4,
 "nbformat_minor": 4
}
